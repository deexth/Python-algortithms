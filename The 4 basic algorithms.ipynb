{
 "cells": [
  {
   "cell_type": "markdown",
   "metadata": {},
   "source": [
    "# Basic algorithms in python"
   ]
  },
  {
   "cell_type": "markdown",
   "metadata": {},
   "source": [
    "## Day1"
   ]
  },
  {
   "cell_type": "markdown",
   "metadata": {},
   "source": [
    "### 1. Recursive algorithms"
   ]
  },
  {
   "cell_type": "markdown",
   "metadata": {},
   "source": [
    "Today we'll learn about simple algorithm like algorithm to compute the factorial of a number. But first let's see what an algorithm is\n",
    "    we can define an algorithm a aset of instrunctions given to a computer to perform a certain task. In a fun way, it's bossing around a computer \n"
   ]
  },
  {
   "cell_type": "markdown",
   "metadata": {},
   "source": [
    "But to do that a certain pattern has to be followed which is:\n",
    "    **Input -> Instructions -> Execute -> Output**\n",
    "    \n",
    "![image.png](https://media4.giphy.com/media/oXzAbIJsRozhYyHEo3/giphy.gif?cid=ecf05e47xoyy1j4ej648bsxhfdb6hjdcwzemwaya26bdd3d1&rid=giphy.gif&ct=g)"
   ]
  },
  {
   "cell_type": "markdown",
   "metadata": {},
   "source": [
    "In todays's lab 2 ways of implementing our algorith will be used. The iteration methd and the recursive method.\n"
   ]
  },
  {
   "cell_type": "markdown",
   "metadata": {},
   "source": [
    "##### The iteration method:\n",
    "Before we start we need to know how factorial works. It is a function that takes a number and returns the product of all the numbers from 1 to that number. For example, factorial(5) = 5 * 4 * 3 * 2 * 1 = 120. We can use the factorial function to calculate the number of permutations of a set of n elements. For example, if we have a set of 5 elements, we can calculate the number of permutations of that set by using the formula:\n",
    "    n! = n * (n-1) * (n-2) * ... * 1 = n * (n-1)!\t"
   ]
  },
  {
   "cell_type": "code",
   "execution_count": null,
   "metadata": {},
   "outputs": [],
   "source": [
    "def calculate_factorial(n):\n",
    "    if n < 2:\n",
    "        return 1\n",
    "    for i in range(2, n):\n",
    "        n *= i\n",
    "    return n\n"
   ]
  },
  {
   "cell_type": "code",
   "execution_count": null,
   "metadata": {},
   "outputs": [],
   "source": [
    "calculate_factorial(5)"
   ]
  },
  {
   "cell_type": "markdown",
   "metadata": {},
   "source": [
    "Another way to implement the iterative method would be this:"
   ]
  },
  {
   "cell_type": "code",
   "execution_count": null,
   "metadata": {},
   "outputs": [],
   "source": [
    "def calculate_factorial(n):\n",
    "    fact = 1\n",
    "    for i in range(2, n + 1):\n",
    "        fact *= i\n",
    "    return fact\n"
   ]
  },
  {
   "cell_type": "code",
   "execution_count": null,
   "metadata": {},
   "outputs": [],
   "source": [
    "calculate_factorial(5)"
   ]
  },
  {
   "cell_type": "markdown",
   "metadata": {},
   "source": [
    "For this second one we add the *+1*, because the factorial is calculated using our base number *1* from the *fact=1*. Since iteration starts from *0*, the program will never have a chance to reach the *5* which is our *n*. It would stop at *4*, hence why the *n+1*.\n",
    "Unlike our first example which already starts from the *n*, and the multiplies to all numbers from the range starting at *2* to *n-1*."
   ]
  },
  {
   "cell_type": "markdown",
   "metadata": {},
   "source": [
    "##### The recursive method:\n",
    "Now we'll see how we can also implement the algorithm in a recursive way."
   ]
  },
  {
   "cell_type": "code",
   "execution_count": null,
   "metadata": {},
   "outputs": [],
   "source": [
    "def recursive_factorial(n):\n",
    "    if n < 2:\n",
    "        return 1\n",
    "    else:\n",
    "        fact = n * recursive_factorial(n - 1)\n",
    "        return fact\n"
   ]
  },
  {
   "cell_type": "code",
   "execution_count": null,
   "metadata": {},
   "outputs": [],
   "source": [
    "recursive_factorial(5)"
   ]
  },
  {
   "cell_type": "markdown",
   "metadata": {},
   "source": [
    "What happens here is that the code **recursive_factorial(n-1)**, will store all the numbers **n-1** by calling it self till the first condition *n<2* is satisfied. Then, the numbers will be multiplied to *n*, using the *LIFO* method (Last in First out)."
   ]
  },
  {
   "cell_type": "markdown",
   "metadata": {},
   "source": [
    "AS one get's used to writing recursive functions. They will start reducing the lne of codes, which is basically one of the merits of recursion; *neet code*"
   ]
  },
  {
   "cell_type": "code",
   "execution_count": null,
   "metadata": {},
   "outputs": [],
   "source": [
    "def recursive_factorial(n):\n",
    "    if n < 2:\n",
    "        return 1\n",
    "    else:\n",
    "        return n * recursive_factorial(n - 1)"
   ]
  },
  {
   "cell_type": "code",
   "execution_count": null,
   "metadata": {},
   "outputs": [],
   "source": [
    "recursive_factorial(5)"
   ]
  },
  {
   "cell_type": "markdown",
   "metadata": {},
   "source": [
    "In conclusion we just saw recursive algorithms and basic iteration. Though, recursion can reduce the amount of code one writes. It would not be a good choice to use on large number like *125*, since it takes ime and space while creating pocket spaces for the values calculated. Unlike our iteration function which it's time complexity and space doesn't change.\n",
    "So for large that sets recursion would not be a great choice, but would be best for small solvability problems.\n",
    "\n",
    "\n",
    "![alt](https://media0.giphy.com/media/KSKvdT1YGCpUIonvSq/giphy.gif?cid=ecf05e47ki425dkz86j100qvrdi1h1iks9t28mj4bko14k7n&rid=giphy.gif&ct=g)"
   ]
  },
  {
   "cell_type": "markdown",
   "metadata": {},
   "source": [
    "##### N-QUEENS PROBLEM"
   ]
  },
  {
   "cell_type": "markdown",
   "metadata": {},
   "source": [
    "The N Queen is the problem of placing N chess queens on an N×N chessboard so that no two queens attack each other. For example, the following is a solution for the 4 Queen problem.\n",
    "\n",
    "\n",
    "![alt](https://media.geeksforgeeks.org/wp-content/uploads/N_Queen_Problem.jpg)\n",
    "\n",
    "\n",
    "\n",
    "The expected output is binary matrix that has 1s for the blocks where queens are placed. For example, the following is the output matrix for the above 4 queen solution.\n",
    "\n",
    "`{ 0,  1,  0,  0}\n",
    "{ 0,  0,  0,  1}\n",
    "{ 1,  0,  0,  0}\n",
    "{ 0,  0,  1,  0}`"
   ]
  },
  {
   "cell_type": "markdown",
   "metadata": {},
   "source": [
    "Let's see the implementation:\n"
   ]
  },
  {
   "cell_type": "code",
   "execution_count": null,
   "metadata": {},
   "outputs": [],
   "source": [
    "# implement n-quene problem using backtracking\n",
    "\n",
    "def n_queen(n):\n",
    "    if n < 4:\n",
    "        return []\n",
    "    result = []\n",
    "    board = [[0 for i in range(n)] for j in range(n)]\n",
    "    helper(board, 0, result)\n",
    "    return result\n",
    "\n",
    "def helper(board, col, result):\n",
    "    if col == len(board):\n",
    "        result.append(board)\n",
    "        return\n",
    "    for i in range(len(board)):\n",
    "        if is_valid(board, i, col):\n",
    "            board[i][col] = 1\n",
    "            helper(board, col + 1, result)\n",
    "            board[i][col] = 0\n",
    "            \n",
    "def is_valid(board, row, col):\n",
    "    for i in range(col):\n",
    "        if board[row][i] == 1:\n",
    "            return False\n",
    "    for i, j in zip(range(row, -1, -1), range(col, -1, -1)):\n",
    "        if board[i][j] == 1:\n",
    "            return False\n",
    "    for i, j in zip(range(row, len(board), 1), range(col, -1, -1)):\n",
    "        if board[i][j] == 1:\n",
    "            return False\n",
    "    return True\n",
    "\n",
    "\n"
   ]
  },
  {
   "cell_type": "code",
   "execution_count": null,
   "metadata": {},
   "outputs": [],
   "source": [
    "n_queen(5)"
   ]
  },
  {
   "cell_type": "markdown",
   "metadata": {},
   "source": [
    "### 2. Algorithms in Data structures"
   ]
  },
  {
   "cell_type": "markdown",
   "metadata": {},
   "source": [
    "In This section we'll see some popular algorithms in data structures: Linear or referred to as sequential search, Binary Search, Bubble Sort, and Insertion Sort.\n",
    "We'll go ahead and divide this section in three different section. The first section we'll talk about the algorithms stated above.\n",
    "The second section we'll see Advanced- Linked Lists:\n",
    "Traverse\n",
    "Search\n",
    "Insert\n",
    "Delete\n",
    "\n",
    "And finally Mindbreaker- Hash Tables:\n",
    "Associative arrays\n",
    "Hash functions\n",
    "Keys-value pairs\n",
    "Collision, and\n",
    "Chaining"
   ]
  },
  {
   "cell_type": "markdown",
   "metadata": {},
   "source": [
    "##### Linear search:\n",
    "In this part we'll start with the easist of all which is the linear search algorithm. Linear search examines each element until it finds a match, starting at the beginning of the data set, until the end.\n",
    "Let's see the example"
   ]
  },
  {
   "cell_type": "code",
   "execution_count": null,
   "metadata": {},
   "outputs": [],
   "source": [
    "def linear_search(item, target):\n",
    "    for i in range(len(item)):\n",
    "        if item[i] == target:\n",
    "            return f\"Found {target} at index {i}, position {i + 1}\"\n",
    "    return None\n"
   ]
  },
  {
   "cell_type": "code",
   "execution_count": null,
   "metadata": {},
   "outputs": [],
   "source": [
    "arr = [1, 2, 3, 4, 5, 6, 7, 8, 9, 10]\n",
    "target = 5\n",
    "\n",
    "linear_search(arr, target)"
   ]
  }
 ],
 "metadata": {
  "kernelspec": {
   "display_name": "Python 3.10.7 64-bit (microsoft store)",
   "language": "python",
   "name": "python3"
  },
  "language_info": {
   "codemirror_mode": {
    "name": "ipython",
    "version": 3
   },
   "file_extension": ".py",
   "mimetype": "text/x-python",
   "name": "python",
   "nbconvert_exporter": "python",
   "pygments_lexer": "ipython3",
   "version": "3.10.7"
  },
  "orig_nbformat": 4,
  "vscode": {
   "interpreter": {
    "hash": "7ed89417585c095a9f08d27aad136239880f7c1b86cf2da88ebc4a558f02cb21"
   }
  }
 },
 "nbformat": 4,
 "nbformat_minor": 2
}
