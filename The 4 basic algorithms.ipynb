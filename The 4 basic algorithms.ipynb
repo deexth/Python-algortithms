{
 "cells": [
  {
   "cell_type": "markdown",
   "metadata": {},
   "source": [
    "# Basic algorithms in python\n"
   ]
  },
  {
   "cell_type": "markdown",
   "metadata": {},
   "source": [
    "## Day1\n"
   ]
  },
  {
   "cell_type": "markdown",
   "metadata": {},
   "source": [
    "### 1. Recursive algorithms\n"
   ]
  },
  {
   "cell_type": "markdown",
   "metadata": {},
   "source": [
    "Today we'll learn about simple algorithm like algorithm to compute the factorial of a number. But first let's see what an algorithm is\n",
    "we can define an algorithm a aset of instrunctions given to a computer to perform a certain task. In a fun way, it's bossing around a computer\n"
   ]
  },
  {
   "cell_type": "markdown",
   "metadata": {},
   "source": [
    "But to do that a certain pattern has to be followed which is:\n",
    "**Input -> Instructions -> Execute -> Output**\n",
    "\n",
    "![image.png](https://media4.giphy.com/media/oXzAbIJsRozhYyHEo3/giphy.gif?cid=ecf05e47xoyy1j4ej648bsxhfdb6hjdcwzemwaya26bdd3d1&rid=giphy.gif&ct=g)\n"
   ]
  },
  {
   "cell_type": "markdown",
   "metadata": {},
   "source": [
    "In todays's lab 2 ways of implementing our algorith will be used. The iteration methd and the recursive method.\n"
   ]
  },
  {
   "cell_type": "markdown",
   "metadata": {},
   "source": [
    "##### The iteration method:\n",
    "\n",
    "Before we start we need to know how factorial works. It is a function that takes a number and returns the product of all the numbers from 1 to that number. For example, factorial(5) = 5 _ 4 _ 3 _ 2 _ 1 = 120. We can use the factorial function to calculate the number of permutations of a set of n elements. For example, if we have a set of 5 elements, we can calculate the number of permutations of that set by using the formula:\n",
    "n! = n _ (n-1) _ (n-2) _ ... _ 1 = n \\* (n-1)!\n"
   ]
  },
  {
   "cell_type": "code",
   "execution_count": null,
   "metadata": {},
   "outputs": [],
   "source": [
    "def calculate_factorial(n):\n",
    "    if n < 2:\n",
    "        return 1\n",
    "    for i in range(2, n):\n",
    "        n *= i\n",
    "    return n\n"
   ]
  },
  {
   "cell_type": "code",
   "execution_count": null,
   "metadata": {},
   "outputs": [],
   "source": [
    "calculate_factorial(5)"
   ]
  },
  {
   "cell_type": "markdown",
   "metadata": {},
   "source": [
    "Another way to implement the iterative method would be this:\n"
   ]
  },
  {
   "cell_type": "code",
   "execution_count": null,
   "metadata": {},
   "outputs": [],
   "source": [
    "def calculate_factorial(n):\n",
    "    fact = 1\n",
    "    for i in range(2, n + 1):\n",
    "        fact *= i\n",
    "    return fact\n"
   ]
  },
  {
   "cell_type": "code",
   "execution_count": null,
   "metadata": {},
   "outputs": [],
   "source": [
    "calculate_factorial(5)"
   ]
  },
  {
   "cell_type": "markdown",
   "metadata": {},
   "source": [
    "For this second one we add the _+1_, because the factorial is calculated using our base number _1_ from the _fact=1_. Since iteration starts from _0_, the program will never have a chance to reach the _5_ which is our _n_. It would stop at _4_, hence why the _n+1_.\n",
    "Unlike our first example which already starts from the _n_, and the multiplies to all numbers from the range starting at _2_ to _n-1_.\n"
   ]
  },
  {
   "cell_type": "markdown",
   "metadata": {},
   "source": [
    "##### The recursive method:\n",
    "\n",
    "Now we'll see how we can also implement the algorithm in a recursive way.\n"
   ]
  },
  {
   "cell_type": "code",
   "execution_count": 5,
   "metadata": {},
   "outputs": [],
   "source": [
    "def recursive_factorial(n):\n",
    "    if n == 1:\n",
    "        return n\n",
    "    else:\n",
    "        fact = n * recursive_factorial(n - 1)\n",
    "        return fact\n"
   ]
  },
  {
   "cell_type": "code",
   "execution_count": 6,
   "metadata": {},
   "outputs": [
    {
     "data": {
      "text/plain": [
       "120"
      ]
     },
     "execution_count": 6,
     "metadata": {},
     "output_type": "execute_result"
    }
   ],
   "source": [
    "recursive_factorial(5)"
   ]
  },
  {
   "cell_type": "markdown",
   "metadata": {},
   "source": [
    "What happens here is that the code **recursive_factorial(n-1)**, will store all the numbers **n-1** by calling it self till the first condition _n<2_ is satisfied. Then, the numbers will be multiplied to _n_, using the _LIFO_ method (Last in First out).\n"
   ]
  },
  {
   "cell_type": "markdown",
   "metadata": {},
   "source": [
    "AS one get's used to writing recursive functions. They will start reducing the lne of codes, which is basically one of the merits of recursion; _neet code_\n"
   ]
  },
  {
   "cell_type": "code",
   "execution_count": 7,
   "metadata": {},
   "outputs": [],
   "source": [
    "def recursive_factorial(n):\n",
    "    if n < 2:\n",
    "        return n\n",
    "    else:\n",
    "        return n * recursive_factorial(n - 1)"
   ]
  },
  {
   "cell_type": "code",
   "execution_count": 8,
   "metadata": {},
   "outputs": [
    {
     "data": {
      "text/plain": [
       "120"
      ]
     },
     "execution_count": 8,
     "metadata": {},
     "output_type": "execute_result"
    }
   ],
   "source": [
    "recursive_factorial(5)"
   ]
  },
  {
   "cell_type": "markdown",
   "metadata": {},
   "source": [
    "In conclusion we just saw recursive algorithms and basic iteration. Though, recursion can reduce the amount of code one writes. It would not be a good choice to use on large number like _125_, since it takes ime and space while creating pocket spaces for the values calculated. Unlike our iteration function which it's time complexity and space doesn't change.\n",
    "So for large that sets recursion would not be a great choice, but would be best for small solvability problems.\n",
    "\n",
    "![alt](https://media0.giphy.com/media/KSKvdT1YGCpUIonvSq/giphy.gif?cid=ecf05e47ki425dkz86j100qvrdi1h1iks9t28mj4bko14k7n&rid=giphy.gif&ct=g)\n"
   ]
  },
  {
   "cell_type": "markdown",
   "metadata": {},
   "source": [
    "##### Permutations\n",
    "\n",
    "In this section we will see how permutations work. Since if we were to use recursive functions for large strings it would be tough on the function because of all the calling back.\n",
    "We will also see a way to implement a permute function iteratively i would say.\n"
   ]
  },
  {
   "cell_type": "code",
   "execution_count": 9,
   "metadata": {},
   "outputs": [],
   "source": [
    "def permute(string, pocket=''):\n",
    "    if len(string) == 0:\n",
    "        print(pocket)\n",
    "    else:\n",
    "        for i in range(len(string)):\n",
    "            pass"
   ]
  },
  {
   "cell_type": "markdown",
   "metadata": {},
   "source": [
    "##### N-QUEENS PROBLEM\n"
   ]
  },
  {
   "cell_type": "markdown",
   "metadata": {},
   "source": [
    "The N Queen is the problem of placing N chess queens on an N×N chessboard so that no two queens attack each other. For example, the following is a solution for the 4 Queen problem.\n",
    "\n",
    "![alt](https://media.geeksforgeeks.org/wp-content/uploads/N_Queen_Problem.jpg)\n",
    "\n",
    "The expected output is binary matrix that has 1s for the blocks where queens are placed. For example, the following is the output matrix for the above 4 queen solution.\n",
    "\n",
    "`{ 0, 1, 0, 0} { 0, 0, 0, 1} { 1, 0, 0, 0} { 0, 0, 1, 0}`\n"
   ]
  },
  {
   "cell_type": "markdown",
   "metadata": {},
   "source": [
    "Let's see the implementation:\n"
   ]
  },
  {
   "cell_type": "code",
   "execution_count": null,
   "metadata": {},
   "outputs": [],
   "source": [
    "# implement n-quene problem using backtracking\n",
    "\n",
    "def n_queen(n):\n",
    "    if n < 4:\n",
    "        return []\n",
    "    result = []\n",
    "    board = [[0 for i in range(n)] for j in range(n)]\n",
    "    helper(board, 0, result)\n",
    "    return result\n",
    "\n",
    "def helper(board, col, result):\n",
    "    if col == len(board):\n",
    "        result.append(board)\n",
    "        return\n",
    "    for i in range(len(board)):\n",
    "        if is_valid(board, i, col):\n",
    "            board[i][col] = 1\n",
    "            helper(board, col + 1, result)\n",
    "            board[i][col] = 0\n",
    "            \n",
    "def is_valid(board, row, col):\n",
    "    for i in range(col):\n",
    "        if board[row][i] == 1:\n",
    "            return False\n",
    "    for i, j in zip(range(row, -1, -1), range(col, -1, -1)):\n",
    "        if board[i][j] == 1:\n",
    "            return False\n",
    "    for i, j in zip(range(row, len(board), 1), range(col, -1, -1)):\n",
    "        if board[i][j] == 1:\n",
    "            return False\n",
    "    return True\n",
    "\n",
    "\n"
   ]
  },
  {
   "cell_type": "code",
   "execution_count": null,
   "metadata": {},
   "outputs": [],
   "source": [
    "n_queen(5)"
   ]
  },
  {
   "cell_type": "markdown",
   "metadata": {},
   "source": [
    "### 2. Algorithms in Data structures\n"
   ]
  },
  {
   "cell_type": "markdown",
   "metadata": {},
   "source": [
    "In This section we'll see some popular algorithms in data structures: Linear or referred to as sequential search, Binary Search, Bubble Sort, and Insertion Sort.\n",
    "We'll go ahead and divide this section in three different section. The first section we'll talk about the algorithms stated above.\n",
    "The second section we'll see Advanced- Linked Lists:\n",
    "Traverse\n",
    "Search\n",
    "Insert\n",
    "Delete\n",
    "\n",
    "And finally Mindbreaker- Hash Tables:\n",
    "Associative arrays\n",
    "Hash functions\n",
    "Keys-value pairs\n",
    "Collision, and\n",
    "Chaining\n"
   ]
  },
  {
   "cell_type": "markdown",
   "metadata": {},
   "source": [
    "##### Linear search:\n",
    "\n",
    "In this part we'll start with the easist of all which is the linear search algorithm. Linear search examines each element until it finds a match, starting at the beginning of the data set, until the end.\n",
    "Let's see the example\n"
   ]
  },
  {
   "cell_type": "code",
   "execution_count": null,
   "metadata": {},
   "outputs": [],
   "source": [
    "def linear_search(item, target):\n",
    "    for i in range(len(item)):\n",
    "        if item[i] == target:\n",
    "            return f\"Found {target} at index {i}, position {i + 1}\"\n",
    "    return None\n"
   ]
  },
  {
   "cell_type": "code",
   "execution_count": null,
   "metadata": {},
   "outputs": [
    {
     "ename": "",
     "evalue": "",
     "output_type": "error",
     "traceback": [
      "\u001b[1;31mRunning cells with 'Python 3.10.6 64-bit' requires ipykernel package.\n",
      "\u001b[1;31mRun the following command to install 'ipykernel' into the Python environment. \n",
      "\u001b[1;31mCommand: '/bin/python -m pip install ipykernel -U --user --force-reinstall'"
     ]
    }
   ],
   "source": [
    "arr = [1, 2, 3, 4, 5, 6, 7, 8, 9, 10]\n",
    "target = 5\n",
    "\n",
    "linear_search(arr, target)"
   ]
  },
  {
   "cell_type": "markdown",
   "metadata": {},
   "source": [
    "#### Binary Search:\n"
   ]
  },
  {
   "cell_type": "markdown",
   "metadata": {},
   "source": [
    "Binary search is usually mostly done on sorted arrays. By dividing the array using two ponters _(start and end)_, we reduce the search interval since we are not searching the whole array but the divided parts each.\n",
    "If we consider an array n[1,2,5,7,8,8,9]. Our algorithm will check if the middle element is equal to our element if not and the middle value is greater than our value, then it will search in the lower half of our array without need of searching the upper half because our value will not be there.\n",
    "\n",
    "![image](https://media3.giphy.com/media/7YCBcRdppEuvuSmoYH/giphy.gif?cid=ecf05e47071ohtu0av90mwpoojlexuqdpt75ip2limb0ou3h&rid=giphy.gif&ct=g)\n"
   ]
  },
  {
   "cell_type": "markdown",
   "metadata": {},
   "source": [
    "Let's look at an iterative method first:\n"
   ]
  },
  {
   "cell_type": "code",
   "execution_count": null,
   "metadata": {},
   "outputs": [
    {
     "ename": "",
     "evalue": "",
     "output_type": "error",
     "traceback": [
      "\u001b[1;31mRunning cells with 'Python 3.10.6 64-bit' requires ipykernel package.\n",
      "\u001b[1;31mRun the following command to install 'ipykernel' into the Python environment. \n",
      "\u001b[1;31mCommand: '/bin/python -m pip install ipykernel -U --user --force-reinstall'"
     ]
    }
   ],
   "source": [
    "def binary_iter(arr, start, end, target):\n",
    "    while start <= end:\n",
    "        mid = (start + end) // 2\n",
    "        if arr[mid] == target:\n",
    "            return f\"Found {target} at index {mid}, position {mid + 1}\"\n",
    "        elif arr[mid] < target:\n",
    "            start = mid + 1\n",
    "        else:\n",
    "            end = mid - 1\n",
    "    return None\n"
   ]
  },
  {
   "cell_type": "code",
   "execution_count": null,
   "metadata": {},
   "outputs": [],
   "source": [
    "target = 5\n",
    "arr = [2, 8, 5, 9, 1, 3, 4, 7, 6, 10]\n",
    "binary_iter(arr, 0, len(arr) - 1, target)"
   ]
  },
  {
   "cell_type": "markdown",
   "metadata": {},
   "source": [
    "The recursive function of the binary search's runtime and space in memory is very minimal which makes it also a good candidate for this search. Only a few lines will be changed which we will see in our program below:\n"
   ]
  },
  {
   "cell_type": "code",
   "execution_count": null,
   "metadata": {},
   "outputs": [],
   "source": [
    "def binary_iter(arr, start, end, target):\n",
    "    while start <= end:\n",
    "        mid = (start + end) // 2\n",
    "        if arr[mid] == target:\n",
    "            return f\"Found {target} at index {mid}, position {mid + 1}\"\n",
    "        elif arr[mid] < target:\n",
    "            binary_iter(arr, mid + 1, end, target)\n",
    "        else:\n",
    "            binary_iter(arr, start, mid - 1, target)\n",
    "    return None"
   ]
  },
  {
   "cell_type": "code",
   "execution_count": null,
   "metadata": {},
   "outputs": [],
   "source": [
    "target = 5\n",
    "arr = [2, 8, 5, 9, 1, 3, 4, 7, 6, 10]\n",
    "binary_iter(arr, 0, len(arr) - 1, target)"
   ]
  },
  {
   "cell_type": "markdown",
   "metadata": {},
   "source": [
    "### Sorting algorithms\n"
   ]
  },
  {
   "cell_type": "markdown",
   "metadata": {},
   "source": [
    "#### Bubble sort\n"
   ]
  },
  {
   "cell_type": "markdown",
   "metadata": {},
   "source": [
    "Bubble sort is the simplest soeting algorithm that repeatedly works by swapping te adjascent elements if they are in the wrong order by moving the highest value to the end of the array. Though it is not a very efficient algorithm\n",
    "\n",
    "![image](https://media3.giphy.com/media/yLUDES1hibWNiwBCNs/giphy.gif?cid=ecf05e47wt09her8t1u29gcdlr0cysy2fkgmr5lbjzlcwz17&rid=giphy.gif&ct=g)\n"
   ]
  },
  {
   "cell_type": "markdown",
   "metadata": {},
   "source": [
    "The perk that the bubble sort has over other sorting algorithms is that it can detect if a list or array is sorted. In the best case scenario of the algorithm, a list is already sorted or nearly sorted.\n"
   ]
  },
  {
   "cell_type": "code",
   "execution_count": null,
   "metadata": {},
   "outputs": [],
   "source": [
    "def bubble(arr):\n",
    "    pass"
   ]
  },
  {
   "cell_type": "markdown",
   "metadata": {},
   "source": [
    "### Insertion sort\n"
   ]
  },
  {
   "cell_type": "markdown",
   "metadata": {},
   "source": [
    "The insertion sort algotihm works by building one item at a time, though on larger arrays it is inefficient. But regardless of that the insertion sort has it's own advantages like little and simple amount of code needed, plus it doesn't require much space(memory) which means it can be done in place.\n",
    "\n",
    "![image](https://media2.giphy.com/media/QGrjYfvcfoXJZdgZrv/giphy.gif?cid=ecf05e47c82wero71mgb43c6fjlf70g0d1tgw2rxikillc3g&rid=giphy.gif&ct=g)\n",
    "\n",
    "The concept is that it splits the array in two sections. 1 unsorted side and the other sorted.\n",
    "By taking one item at a time from the unsorted side and comparing it to the elements in the sorted side, it then places that element to the right place where it should be in the sorted side.\n"
   ]
  },
  {
   "cell_type": "markdown",
   "metadata": {},
   "source": [
    "Let's look at an example:\n"
   ]
  },
  {
   "cell_type": "code",
   "execution_count": null,
   "metadata": {},
   "outputs": [],
   "source": [
    "def insertion(arr):\n",
    "    pass"
   ]
  }
 ],
 "metadata": {
  "kernelspec": {
   "display_name": "Python 3.10.6 64-bit",
   "language": "python",
   "name": "python3"
  },
  "language_info": {
   "codemirror_mode": {
    "name": "ipython",
    "version": 3
   },
   "file_extension": ".py",
   "mimetype": "text/x-python",
   "name": "python",
   "nbconvert_exporter": "python",
   "pygments_lexer": "ipython3",
   "version": "3.10.6"
  },
  "orig_nbformat": 4,
  "vscode": {
   "interpreter": {
    "hash": "e7370f93d1d0cde622a1f8e1c04877d8463912d04d973331ad4851f04de6915a"
   }
  }
 },
 "nbformat": 4,
 "nbformat_minor": 2
}
